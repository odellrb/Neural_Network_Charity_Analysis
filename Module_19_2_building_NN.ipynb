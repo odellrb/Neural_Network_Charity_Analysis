{
  "nbformat": 4,
  "nbformat_minor": 0,
  "metadata": {
    "colab": {
      "provenance": [],
      "authorship_tag": "ABX9TyPOLQ7qd49UEv4k0PYrutU3",
      "include_colab_link": true
    },
    "kernelspec": {
      "name": "python3",
      "display_name": "Python 3"
    },
    "language_info": {
      "name": "python"
    }
  },
  "cells": [
    {
      "cell_type": "markdown",
      "metadata": {
        "id": "view-in-github",
        "colab_type": "text"
      },
      "source": [
        "<a href=\"https://colab.research.google.com/github/odellrb/Neural_Network_Charity_Analysis/blob/main/Module_19_2_building_NN.ipynb\" target=\"_parent\"><img src=\"https://colab.research.google.com/assets/colab-badge.svg\" alt=\"Open In Colab\"/></a>"
      ]
    },
    {
      "cell_type": "code",
      "source": [
        "# Import our dependencies\n",
        "import pandas as pd\n",
        "import matplotlib as plt\n",
        "from sklearn.datasets import make_blobs\n",
        "import sklearn as skl\n",
        "import tensorflow as tf"
      ],
      "metadata": {
        "id": "0LpwBquJfPWa"
      },
      "execution_count": 3,
      "outputs": []
    },
    {
      "cell_type": "code",
      "source": [
        "# Generate dummy dataset\n",
        "X, y = make_blobs(n_samples=1000, centers=2, n_features=2, random_state=78)\n",
        "\n",
        "# Creating a DataFrame with the dummy data\n",
        "df = pd.DataFrame(X, columns=[\"Feature 1\", \"Feature 2\"])\n",
        "df[\"Target\"] = y\n",
        "\n",
        "# Plotting the dummy data\n",
        "df.plot.scatter(x=\"Feature 1\", y=\"Feature 2\", c=\"Target\", colormap=\"winter\")"
      ],
      "metadata": {
        "colab": {
          "base_uri": "https://localhost:8080/",
          "height": 275
        },
        "id": "w5u39PcpfXLK",
        "outputId": "6590eb73-d245-400d-a844-c637aa3f66c6"
      },
      "execution_count": 4,
      "outputs": [
        {
          "output_type": "execute_result",
          "data": {
            "text/plain": [
              "<matplotlib.axes._subplots.AxesSubplot at 0x7fdd7381cc90>"
            ]
          },
          "metadata": {},
          "execution_count": 4
        },
        {
          "output_type": "display_data",
          "data": {
            "text/plain": [
              "<Figure size 432x288 with 2 Axes>"
            ],
            "image/png": "[encoded data removed]"
          },
          "metadata": {
            "needs_background": "light"
          }
        }
      ]
    },
    {
      "cell_type": "code",
      "source": [
        "# Use sklearn to split dataset\n",
        "from sklearn.model_selection import train_test_split\n",
        "X_train, X_test, y_train, y_test = train_test_split(X, y, random_state=78)\n"
      ],
      "metadata": {
        "id": "FtqILMJ7f1lV"
      },
      "execution_count": 5,
      "outputs": []
    },
    {
      "cell_type": "code",
      "source": [
        "# Create scaler instance\n",
        "X_scaler = skl.preprocessing.StandardScaler()\n",
        "\n",
        "# Fit the scaler\n",
        "X_scaler.fit(X_train)\n",
        "\n",
        "# Scale the data\n",
        "X_train_scaled = X_scaler.transform(X_train)\n",
        "X_test_scaled = X_scaler.transform(X_test)\n"
      ],
      "metadata": {
        "id": "qelRgfnxf3dO"
      },
      "execution_count": 7,
      "outputs": []
    },
    {
      "cell_type": "code",
      "source": [
        "# Create the Keras Sequential model\n",
        "nn_model = tf.keras.models.Sequential()"
      ],
      "metadata": {
        "id": "G2xqmhLXf6if"
      },
      "execution_count": 8,
      "outputs": []
    },
    {
      "cell_type": "code",
      "source": [
        "# Add our first Dense layer, including the input layer\n",
        "nn_model.add(tf.keras.layers.Dense(units=1, activation=\"relu\", input_dim=2))"
      ],
      "metadata": {
        "id": "o_MjwTyCgBov"
      },
      "execution_count": 9,
      "outputs": []
    },
    {
      "cell_type": "code",
      "source": [
        "# Add the output layer that uses a probability activation function\n",
        "nn_model.add(tf.keras.layers.Dense(units=1, activation=\"sigmoid\"))"
      ],
      "metadata": {
        "id": "-SSQzTO5gHjq"
      },
      "execution_count": 10,
      "outputs": []
    },
    {
      "cell_type": "code",
      "source": [
        "# Check the structure of the Sequential model\n",
        "nn_model.summary()"
      ],
      "metadata": {
        "colab": {
          "base_uri": "https://localhost:8080/"
        },
        "id": "SPcnsTtpgK6_",
        "outputId": "3ce19bd8-da6d-407a-d80f-6217a437297a"
      },
      "execution_count": 11,
      "outputs": [
        {
          "output_type": "stream",
          "name": "stdout",
          "text": [
            "Model: \"sequential\"\n",
            "_________________________________________________________________\n",
            " Layer (type)                Output Shape              Param #   \n",
            "=================================================================\n",
            " dense (Dense)               (None, 1)                 3         \n",
            "                                                                 \n",
            " dense_1 (Dense)             (None, 1)                 2         \n",
            "                                                                 \n",
            "=================================================================\n",
            "Total params: 5\n",
            "Trainable params: 5\n",
            "Non-trainable params: 0\n",
            "_________________________________________________________________\n"
          ]
        }
      ]
    },
    {
      "cell_type": "code",
      "source": [
        "# Compile the Sequential model together and customize metrics\n",
        "nn_model.compile(loss=\"binary_crossentropy\", optimizer=\"adam\", metrics=[\"accuracy\"])"
      ],
      "metadata": {
        "id": "tqEXL_3ogN6l"
      },
      "execution_count": 12,
      "outputs": []
    },
    {
      "cell_type": "code",
      "source": [
        "# Fit the model to the training data\n",
        "fit_model = nn_model.fit(X_train_scaled, y_train, epochs=100)"
      ],
      "metadata": {
        "colab": {
          "base_uri": "https://localhost:8080/"
        },
        "id": "7L3aQ1yegg5o",
        "outputId": "1cc35199-92b7-493e-9272-16633af62556"
      },
      "execution_count": 13,
      "outputs": [
        {
          "output_type": "stream",
          "name": "stdout",
          "text": [
            "Epoch 1/100\n",
            "24/24 [==============================] - 1s 2ms/step - loss: 0.6526 - accuracy: 0.6600\n",
            "Epoch 2/100\n",
            "24/24 [==============================] - 0s 2ms/step - loss: 0.6407 - accuracy: 0.7027\n",
            "Epoch 3/100\n",
            "24/24 [==============================] - 0s 2ms/step - loss: 0.6277 - accuracy: 0.7507\n",
            "Epoch 4/100\n",
            "24/24 [==============================] - 0s 2ms/step - loss: 0.6141 - accuracy: 0.7787\n",
            "Epoch 5/100\n",
            "24/24 [==============================] - 0s 2ms/step - loss: 0.5990 - accuracy: 0.8107\n",
            "Epoch 6/100\n",
            "24/24 [==============================] - 0s 2ms/step - loss: 0.5817 - accuracy: 0.8533\n",
            "Epoch 7/100\n",
            "24/24 [==============================] - 0s 2ms/step - loss: 0.5621 - accuracy: 0.8907\n",
            "Epoch 8/100\n",
            "24/24 [==============================] - 0s 2ms/step - loss: 0.5417 - accuracy: 0.9227\n",
            "Epoch 9/100\n",
            "24/24 [==============================] - 0s 2ms/step - loss: 0.5207 - accuracy: 0.9467\n",
            "Epoch 10/100\n",
            "24/24 [==============================] - 0s 2ms/step - loss: 0.5005 - accuracy: 0.9653\n",
            "Epoch 11/100\n",
            "24/24 [==============================] - 0s 2ms/step - loss: 0.4807 - accuracy: 0.9747\n",
            "Epoch 12/100\n",
            "24/24 [==============================] - 0s 2ms/step - loss: 0.4619 - accuracy: 0.9787\n",
            "Epoch 13/100\n",
            "24/24 [==============================] - 0s 2ms/step - loss: 0.4440 - accuracy: 0.9880\n",
            "Epoch 14/100\n",
            "24/24 [==============================] - 0s 2ms/step - loss: 0.4271 - accuracy: 0.9920\n",
            "Epoch 15/100\n",
            "24/24 [==============================] - 0s 2ms/step - loss: 0.4109 - accuracy: 0.9947\n",
            "Epoch 16/100\n",
            "24/24 [==============================] - 0s 3ms/step - loss: 0.3956 - accuracy: 0.9973\n",
            "Epoch 17/100\n",
            "24/24 [==============================] - 0s 2ms/step - loss: 0.3811 - accuracy: 1.0000\n",
            "Epoch 18/100\n",
            "24/24 [==============================] - 0s 2ms/step - loss: 0.3675 - accuracy: 1.0000\n",
            "Epoch 19/100\n",
            "24/24 [==============================] - 0s 2ms/step - loss: 0.3546 - accuracy: 1.0000\n",
            "Epoch 20/100\n",
            "24/24 [==============================] - 0s 2ms/step - loss: 0.3425 - accuracy: 1.0000\n",
            "Epoch 21/100\n",
            "24/24 [==============================] - 0s 2ms/step - loss: 0.3310 - accuracy: 1.0000\n",
            "Epoch 22/100\n",
            "24/24 [==============================] - 0s 2ms/step - loss: 0.3203 - accuracy: 1.0000\n",
            "Epoch 23/100\n",
            "24/24 [==============================] - 0s 2ms/step - loss: 0.3102 - accuracy: 1.0000\n",
            "Epoch 24/100\n",
            "24/24 [==============================] - 0s 2ms/step - loss: 0.3005 - accuracy: 1.0000\n",
            "Epoch 25/100\n",
            "24/24 [==============================] - 0s 2ms/step - loss: 0.2915 - accuracy: 1.0000\n",
            "Epoch 26/100\n",
            "24/24 [==============================] - 0s 2ms/step - loss: 0.2828 - accuracy: 1.0000\n",
            "Epoch 27/100\n",
            "24/24 [==============================] - 0s 2ms/step - loss: 0.2745 - accuracy: 1.0000\n",
            "Epoch 28/100\n",
            "24/24 [==============================] - 0s 2ms/step - loss: 0.2667 - accuracy: 1.0000\n",
            "Epoch 29/100\n",
            "24/24 [==============================] - 0s 2ms/step - loss: 0.2592 - accuracy: 1.0000\n",
            "Epoch 30/100\n",
            "24/24 [==============================] - 0s 2ms/step - loss: 0.2521 - accuracy: 1.0000\n",
            "Epoch 31/100\n",
            "24/24 [==============================] - 0s 2ms/step - loss: 0.2453 - accuracy: 1.0000\n",
            "Epoch 32/100\n",
            "24/24 [==============================] - 0s 2ms/step - loss: 0.2388 - accuracy: 1.0000\n",
            "Epoch 33/100\n",
            "24/24 [==============================] - 0s 2ms/step - loss: 0.2326 - accuracy: 1.0000\n",
            "Epoch 34/100\n",
            "24/24 [==============================] - 0s 2ms/step - loss: 0.2267 - accuracy: 1.0000\n",
            "Epoch 35/100\n",
            "24/24 [==============================] - 0s 2ms/step - loss: 0.2210 - accuracy: 1.0000\n",
            "Epoch 36/100\n",
            "24/24 [==============================] - 0s 2ms/step - loss: 0.2156 - accuracy: 1.0000\n",
            "Epoch 37/100\n",
            "24/24 [==============================] - 0s 2ms/step - loss: 0.2104 - accuracy: 1.0000\n",
            "Epoch 38/100\n",
            "24/24 [==============================] - 0s 2ms/step - loss: 0.2054 - accuracy: 1.0000\n",
            "Epoch 39/100\n",
            "24/24 [==============================] - 0s 2ms/step - loss: 0.2005 - accuracy: 1.0000\n",
            "Epoch 40/100\n",
            "24/24 [==============================] - 0s 2ms/step - loss: 0.1959 - accuracy: 1.0000\n",
            "Epoch 41/100\n",
            "24/24 [==============================] - 0s 2ms/step - loss: 0.1914 - accuracy: 1.0000\n",
            "Epoch 42/100\n",
            "24/24 [==============================] - 0s 2ms/step - loss: 0.1870 - accuracy: 1.0000\n",
            "Epoch 43/100\n",
            "24/24 [==============================] - 0s 2ms/step - loss: 0.1829 - accuracy: 1.0000\n",
            "Epoch 44/100\n",
            "24/24 [==============================] - 0s 2ms/step - loss: 0.1789 - accuracy: 1.0000\n",
            "Epoch 45/100\n",
            "24/24 [==============================] - 0s 2ms/step - loss: 0.1750 - accuracy: 1.0000\n",
            "Epoch 46/100\n",
            "24/24 [==============================] - 0s 2ms/step - loss: 0.1712 - accuracy: 1.0000\n",
            "Epoch 47/100\n",
            "24/24 [==============================] - 0s 2ms/step - loss: 0.1676 - accuracy: 1.0000\n",
            "Epoch 48/100\n",
            "24/24 [==============================] - 0s 2ms/step - loss: 0.1641 - accuracy: 1.0000\n",
            "Epoch 49/100\n",
            "24/24 [==============================] - 0s 2ms/step - loss: 0.1607 - accuracy: 1.0000\n",
            "Epoch 50/100\n",
            "24/24 [==============================] - 0s 2ms/step - loss: 0.1574 - accuracy: 1.0000\n",
            "Epoch 51/100\n",
            "24/24 [==============================] - 0s 2ms/step - loss: 0.1542 - accuracy: 1.0000\n",
            "Epoch 52/100\n",
            "24/24 [==============================] - 0s 2ms/step - loss: 0.1511 - accuracy: 1.0000\n",
            "Epoch 53/100\n",
            "24/24 [==============================] - 0s 2ms/step - loss: 0.1481 - accuracy: 1.0000\n",
            "Epoch 54/100\n",
            "24/24 [==============================] - 0s 2ms/step - loss: 0.1452 - accuracy: 1.0000\n",
            "Epoch 55/100\n",
            "24/24 [==============================] - 0s 2ms/step - loss: 0.1424 - accuracy: 1.0000\n",
            "Epoch 56/100\n",
            "24/24 [==============================] - 0s 2ms/step - loss: 0.1397 - accuracy: 1.0000\n",
            "Epoch 57/100\n",
            "24/24 [==============================] - 0s 2ms/step - loss: 0.1370 - accuracy: 1.0000\n",
            "Epoch 58/100\n",
            "24/24 [==============================] - 0s 2ms/step - loss: 0.1344 - accuracy: 1.0000\n",
            "Epoch 59/100\n",
            "24/24 [==============================] - 0s 2ms/step - loss: 0.1319 - accuracy: 1.0000\n",
            "Epoch 60/100\n",
            "24/24 [==============================] - 0s 2ms/step - loss: 0.1295 - accuracy: 1.0000\n",
            "Epoch 61/100\n",
            "24/24 [==============================] - 0s 2ms/step - loss: 0.1271 - accuracy: 1.0000\n",
            "Epoch 62/100\n",
            "24/24 [==============================] - 0s 2ms/step - loss: 0.1248 - accuracy: 1.0000\n",
            "Epoch 63/100\n",
            "24/24 [==============================] - 0s 2ms/step - loss: 0.1225 - accuracy: 1.0000\n",
            "Epoch 64/100\n",
            "24/24 [==============================] - 0s 2ms/step - loss: 0.1204 - accuracy: 1.0000\n",
            "Epoch 65/100\n",
            "24/24 [==============================] - 0s 2ms/step - loss: 0.1182 - accuracy: 1.0000\n",
            "Epoch 66/100\n",
            "24/24 [==============================] - 0s 2ms/step - loss: 0.1161 - accuracy: 1.0000\n",
            "Epoch 67/100\n",
            "24/24 [==============================] - 0s 2ms/step - loss: 0.1141 - accuracy: 1.0000\n",
            "Epoch 68/100\n",
            "24/24 [==============================] - 0s 2ms/step - loss: 0.1121 - accuracy: 1.0000\n",
            "Epoch 69/100\n",
            "24/24 [==============================] - 0s 2ms/step - loss: 0.1102 - accuracy: 1.0000\n",
            "Epoch 70/100\n",
            "24/24 [==============================] - 0s 2ms/step - loss: 0.1083 - accuracy: 1.0000\n",
            "Epoch 71/100\n",
            "24/24 [==============================] - 0s 2ms/step - loss: 0.1064 - accuracy: 1.0000\n",
            "Epoch 72/100\n",
            "24/24 [==============================] - 0s 2ms/step - loss: 0.1046 - accuracy: 1.0000\n",
            "Epoch 73/100\n",
            "24/24 [==============================] - 0s 2ms/step - loss: 0.1029 - accuracy: 1.0000\n",
            "Epoch 74/100\n",
            "24/24 [==============================] - 0s 2ms/step - loss: 0.1011 - accuracy: 1.0000\n",
            "Epoch 75/100\n",
            "24/24 [==============================] - 0s 2ms/step - loss: 0.0995 - accuracy: 1.0000\n",
            "Epoch 76/100\n",
            "24/24 [==============================] - 0s 2ms/step - loss: 0.0978 - accuracy: 1.0000\n",
            "Epoch 77/100\n",
            "24/24 [==============================] - 0s 2ms/step - loss: 0.0962 - accuracy: 1.0000\n",
            "Epoch 78/100\n",
            "24/24 [==============================] - 0s 2ms/step - loss: 0.0947 - accuracy: 1.0000\n",
            "Epoch 79/100\n",
            "24/24 [==============================] - 0s 2ms/step - loss: 0.0931 - accuracy: 1.0000\n",
            "Epoch 80/100\n",
            "24/24 [==============================] - 0s 2ms/step - loss: 0.0916 - accuracy: 1.0000\n",
            "Epoch 81/100\n",
            "24/24 [==============================] - 0s 2ms/step - loss: 0.0902 - accuracy: 1.0000\n",
            "Epoch 82/100\n",
            "24/24 [==============================] - 0s 2ms/step - loss: 0.0887 - accuracy: 1.0000\n",
            "Epoch 83/100\n",
            "24/24 [==============================] - 0s 2ms/step - loss: 0.0873 - accuracy: 1.0000\n",
            "Epoch 84/100\n",
            "24/24 [==============================] - 0s 2ms/step - loss: 0.0859 - accuracy: 1.0000\n",
            "Epoch 85/100\n",
            "24/24 [==============================] - 0s 2ms/step - loss: 0.0846 - accuracy: 1.0000\n",
            "Epoch 86/100\n",
            "24/24 [==============================] - 0s 2ms/step - loss: 0.0833 - accuracy: 1.0000\n",
            "Epoch 87/100\n",
            "24/24 [==============================] - 0s 2ms/step - loss: 0.0820 - accuracy: 1.0000\n",
            "Epoch 88/100\n",
            "24/24 [==============================] - 0s 2ms/step - loss: 0.0808 - accuracy: 1.0000\n",
            "Epoch 89/100\n",
            "24/24 [==============================] - 0s 2ms/step - loss: 0.0795 - accuracy: 1.0000\n",
            "Epoch 90/100\n",
            "24/24 [==============================] - 0s 2ms/step - loss: 0.0783 - accuracy: 1.0000\n",
            "Epoch 91/100\n",
            "24/24 [==============================] - 0s 2ms/step - loss: 0.0771 - accuracy: 1.0000\n",
            "Epoch 92/100\n",
            "24/24 [==============================] - 0s 2ms/step - loss: 0.0760 - accuracy: 1.0000\n",
            "Epoch 93/100\n",
            "24/24 [==============================] - 0s 2ms/step - loss: 0.0748 - accuracy: 1.0000\n",
            "Epoch 94/100\n",
            "24/24 [==============================] - 0s 2ms/step - loss: 0.0737 - accuracy: 1.0000\n",
            "Epoch 95/100\n",
            "24/24 [==============================] - 0s 2ms/step - loss: 0.0726 - accuracy: 1.0000\n",
            "Epoch 96/100\n",
            "24/24 [==============================] - 0s 2ms/step - loss: 0.0715 - accuracy: 1.0000\n",
            "Epoch 97/100\n",
            "24/24 [==============================] - 0s 2ms/step - loss: 0.0705 - accuracy: 1.0000\n",
            "Epoch 98/100\n",
            "24/24 [==============================] - 0s 2ms/step - loss: 0.0695 - accuracy: 1.0000\n",
            "Epoch 99/100\n",
            "24/24 [==============================] - 0s 3ms/step - loss: 0.0685 - accuracy: 1.0000\n",
            "Epoch 100/100\n",
            "24/24 [==============================] - 0s 2ms/step - loss: 0.0675 - accuracy: 1.0000\n"
          ]
        }
      ]
    },
    {
      "cell_type": "code",
      "source": [
        "# Create a DataFrame containing training history\n",
        "history_df = pd.DataFrame(fit_model.history, index=range(1,len(fit_model.history[\"loss\"])+1))\n",
        "\n",
        "# Plot the loss\n",
        "history_df.plot(y=\"loss\")"
      ],
      "metadata": {
        "colab": {
          "base_uri": "https://localhost:8080/",
          "height": 282
        },
        "id": "u_Bl698EhI3t",
        "outputId": "9e2ff58e-6dea-4812-ddbb-c8ae68ed7e94"
      },
      "execution_count": 14,
      "outputs": [
        {
          "output_type": "execute_result",
          "data": {
            "text/plain": [
              "<matplotlib.axes._subplots.AxesSubplot at 0x7fdd6baa5ad0>"
            ]
          },
          "metadata": {},
          "execution_count": 14
        },
        {
          "output_type": "display_data",
          "data": {
            "text/plain": [
              "<Figure size 432x288 with 1 Axes>"
            ],
            "image/png": "[encoded data removed]"
          },
          "metadata": {
            "needs_background": "light"
          }
        }
      ]
    },
    {
      "cell_type": "code",
      "source": [
        "# Plot the accuracy\n",
        "history_df.plot(y=\"accuracy\")"
      ],
      "metadata": {
        "colab": {
          "base_uri": "https://localhost:8080/",
          "height": 282
        },
        "id": "k0Vj8-n8hlfi",
        "outputId": "3a05b8ab-f9cb-4839-d7de-e711f468eb92"
      },
      "execution_count": 15,
      "outputs": [
        {
          "output_type": "execute_result",
          "data": {
            "text/plain": [
              "<matplotlib.axes._subplots.AxesSubplot at 0x7fdd6ec8e790>"
            ]
          },
          "metadata": {},
          "execution_count": 15
        },
        {
          "output_type": "display_data",
          "data": {
            "text/plain": [
              "<Figure size 432x288 with 1 Axes>"
            ],
            "image/png": "[encoded data removed]"
          },
          "metadata": {
            "needs_background": "light"
          }
        }
      ]
    },
    {
      "cell_type": "code",
      "source": [
        "# Evaluate the model using the test data\n",
        "model_loss, model_accuracy = nn_model.evaluate(X_test_scaled,y_test,verbose=2)\n",
        "print(f\"Loss: {model_loss}, Accuracy: {model_accuracy}\")\n"
      ],
      "metadata": {
        "colab": {
          "base_uri": "https://localhost:8080/"
        },
        "id": "d40pDCNzhpsn",
        "outputId": "c2a705f3-557d-437e-dbae-36171dec64e7"
      },
      "execution_count": 16,
      "outputs": [
        {
          "output_type": "stream",
          "name": "stdout",
          "text": [
            "8/8 - 0s - loss: 0.0632 - accuracy: 1.0000 - 274ms/epoch - 34ms/step\n",
            "Loss: 0.06323642283678055, Accuracy: 1.0\n"
          ]
        }
      ]
    },
    {
      "cell_type": "code",
      "source": [
        "# Predict the classification of a new set of blob data\n",
        "new_X, new_Y = make_blobs(n_samples=10, centers=2, n_features=2, random_state=78)\n",
        "new_X_scaled = X_scaler.transform(new_X)\n",
        "(nn_model.predict(new_X_scaled) > 0.5).astype(\"int32\")\n"
      ],
      "metadata": {
        "colab": {
          "base_uri": "https://localhost:8080/"
        },
        "id": "fyPA09Onh7od",
        "outputId": "e77f199c-924c-41d3-e291-d5eb0dd6ea18"
      },
      "execution_count": 17,
      "outputs": [
        {
          "output_type": "stream",
          "name": "stdout",
          "text": [
            "1/1 [==============================] - 0s 126ms/step\n"
          ]
        },
        {
          "output_type": "execute_result",
          "data": {
            "text/plain": [
              "array([[0],\n",
              "       [1],\n",
              "       [0],\n",
              "       [1],\n",
              "       [0],\n",
              "       [0],\n",
              "       [1],\n",
              "       [1],\n",
              "       [1],\n",
              "       [0]], dtype=int32)"
            ]
          },
          "metadata": {},
          "execution_count": 17
        }
      ]
    },
    {
      "cell_type": "code",
      "source": [],
      "metadata": {
        "id": "dMnEngCSiOQH"
      },
      "execution_count": null,
      "outputs": []
    }
  ]
}